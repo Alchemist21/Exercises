{
 "cells": [
  {
   "cell_type": "code",
   "execution_count": null,
   "metadata": {},
   "outputs": [],
   "source": [
    "from time import sleep\n",
    "print (\"Hello there, this is Doctor Sala and Welcome to this simple Diabetes Algorithm \")\n",
    "sleep(1)\n",
    "name = input (\"What is your name? \")\n",
    "print (\"What a wonderful name \" + name)\n",
    "sleep (1)\n",
    "\n",
    "print(\"Now I know I am going beyond myself here but I feel that you worried you might be Diabetic, is this correct? Answer [Y/N]\")\n",
    "answer = input ()\n",
    "if answer == \"Y\":\n",
    "    print(\"Wow, you must be very scared. Let us proceed then\")\n",
    "elif answer == \"N\":\n",
    "    print (\"That is unfortunate. Bye then\")\n",
    "    input (\"Press enter to exit\")\n",
    "    raise SystemExit\n",
    "else:\n",
    "    print (\"Please answer only in Y/N\")\n",
    "\n",
    "sleep (1)\n",
    "print(\"Do you have polydipsia, polyuria and unexplained weight loss? Answer [Y/N]\")\n",
    "answer = input ()\n",
    "if answer == \"Y\":\n",
    "      print(\"I know that was a lot of information to ask but let us continue \")\n",
    "elif answer == \"N\":\n",
    "    print (\"Chances are you may not have the signs and symptoms but let us still proceed\")\n",
    "else:\n",
    "    print (\"Please answer only in Y/N\")\n",
    "\n",
    "#there are other tests to use like random glucose, fasting glucose and even 2 hour OGTT but I focused on HBA1C\n",
    "\n",
    "sleep (1)\n",
    "print(\"Is your HBA1c greater than 6.5%? Answer [Y/N]\")\n",
    "answer = input ()\n",
    "if answer == \"Y\":\n",
    "    print (\"You may have Diabetes. However, it is still best to consult with your attending physician\")\n",
    "elif answer == \"N\":\n",
    "    print (\"You may not have Diabetes. However, it is still best to consult with your attending physician\")\n",
    "else:\n",
    "    print (\"Please answer only in Y or N\")\n",
    "\n",
    "input (\"Press enter to exit\")\n",
    "exit ()"
   ]
  },
  {
   "cell_type": "code",
   "execution_count": null,
   "metadata": {
    "collapsed": true
   },
   "outputs": [],
   "source": []
  }
 ],
 "metadata": {
  "kernelspec": {
   "display_name": "Python 3",
   "language": "python",
   "name": "python3"
  },
  "language_info": {
   "codemirror_mode": {
    "name": "ipython",
    "version": 3
   },
   "file_extension": ".py",
   "mimetype": "text/x-python",
   "name": "python",
   "nbconvert_exporter": "python",
   "pygments_lexer": "ipython3",
   "version": "3.6.3"
  }
 },
 "nbformat": 4,
 "nbformat_minor": 2
}
