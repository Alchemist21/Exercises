{
 "cells": [
  {
   "cell_type": "code",
   "execution_count": null,
   "metadata": {
    "collapsed": true
   },
   "outputs": [],
   "source": [
    "print (\"Hey there, this is Dr. Sala and I would like to welcome you to this Hypertensive algorithm program \")"
   ]
  },
  {
   "cell_type": "code",
   "execution_count": null,
   "metadata": {
    "collapsed": true
   },
   "outputs": [],
   "source": [
    "print (\"Without further ado, \")"
   ]
  },
  {
   "cell_type": "code",
   "execution_count": null,
   "metadata": {
    "collapsed": true
   },
   "outputs": [],
   "source": [
    "name = input (\"what is your name? \")\n",
    "print (\"What a wonderful name \" + name + \":-)\")"
   ]
  },
  {
   "cell_type": "code",
   "execution_count": null,
   "metadata": {
    "collapsed": true
   },
   "outputs": [],
   "source": [
    "print (\"Now I am going to ask you a series of questions and I would like you to answer me sincerely. Is that ok?\" )"
   ]
  },
  {
   "cell_type": "code",
   "execution_count": null,
   "metadata": {
    "collapsed": true
   },
   "outputs": [],
   "source": [
    "answer = input ()\n",
    "if answer == \"yes\":\n",
    "    print (\"That is good. We can now proceed.\")\n",
    "elif answer == \"no\":\n",
    "    print (\"That is pretty unfortunate. Better be off. Thank you.\")\n",
    "    input (\"Press enter to exit\")\n",
    "else:\n",
    "    print (\"Sorry your answer is not recognized. Answer with yes or no in small caps\")"
   ]
  },
  {
   "cell_type": "code",
   "execution_count": null,
   "metadata": {
    "collapsed": true
   },
   "outputs": [],
   "source": [
    "print (\"Are you an adult who thinks he might be hypertensive?\")\n",
    "answer = input ()\n",
    "if answer == \"yes\":\n",
    "    print (\"You must have a lot of reason perhaps a family history? nonetheless we can now proceed\")\n",
    "elif answer == \"no\":\n",
    "    print (\"Thank you for using this app. Have a great day!\")\n",
    "    input (\"Press enter to exit\")\n",
    "else:\n",
    "    print (\"Sorry your answer is not recognized. Answer with yes or no in small caps\")"
   ]
  },
  {
   "cell_type": "code",
   "execution_count": null,
   "metadata": {
    "collapsed": true
   },
   "outputs": [],
   "source": [
    "print (\"When you had your check up and on 2 separate occassions, is your blood pressure < 120/80?\")\n",
    "answer = input ()\n",
    "if answer == \"yes\":\n",
    "    print (\"You may Not have Hypertension. However, it is still best to consult your physician. Thank you\")\n",
    "    input (\"Press enter to exit\")\n",
    "elif answer == \"no\":\n",
    "    print (\"Is that so? We can now proceed with the algorithm\")\n",
    "else:\n",
    "    print (\"Sorry your answer is not recognized. Answer with yes or no in small caps\")"
   ]
  },
  {
   "cell_type": "code",
   "execution_count": null,
   "metadata": {
    "collapsed": true
   },
   "outputs": [],
   "source": [
    "print (\"When you had your check up and on 2 separate occassions, is your Blood Pressure higher than 130 / 80?\")\n",
    "answer = input ()\n",
    "if answer == \"yes\":\n",
    "    print (\"Based on JNC 7 criteria, you may have Hypertension. We can proceed\")\n",
    "elif answer == \"no\":\n",
    "    print (\"Thank you for using this app. Have a great day\")\n",
    "    input (\"Press enter to exit\")\n",
    "else:\n",
    "    print (\"Sorry your answer is not recognized. Answer with yes or no in small caps\")"
   ]
  },
  {
   "cell_type": "code",
   "execution_count": null,
   "metadata": {
    "collapsed": true
   },
   "outputs": [],
   "source": [
    "print (\"When you had your check up and on 2 separate occassions, is your Blood Pressure between 130 - 139 / 80 - 89?\")\n",
    "answer = input ()\n",
    "if answer == \"yes\":\n",
    "    print (\"Based on JNC 7 criteria, you may have Hypertension Stage 1. However, it is still best to consult with your physician\")\n",
    "    input (\"Press enter to exit\")\n",
    "elif answer == \"no\":\n",
    "    print (\"Well, if it is higher then we may proceed\")\n",
    "else:\n",
    "    print (\"Sorry your answer is not recognized. Answer with yes or no in small caps\")"
   ]
  },
  {
   "cell_type": "code",
   "execution_count": null,
   "metadata": {
    "collapsed": true
   },
   "outputs": [],
   "source": [
    "print (\"On 2 separate occassions, is your Blood Pressure >= 140/90?\")\n",
    "answer = input ()\n",
    "if answer == \"yes\":\n",
    "    print (\"Based on JNC 7 criteria, you may have Hypertension Stage 2. However, it is still best to consult with your physician\")\n",
    "elif answer == \"no\":\n",
    "    print (\"Thank you for your answer. Have a great day\")\n",
    "    input (\"Press enter to exit\")\n",
    "else:\n",
    "    print (\"Sorry your answer is not recognized. Answer with a yes or no in small caps\")"
   ]
  },
  {
   "cell_type": "code",
   "execution_count": null,
   "metadata": {
    "collapsed": true
   },
   "outputs": [],
   "source": [
    "print (\"I guess that's it. Thank you for using this app. Have a great day\")\n",
    "input (\"Press enter to exit\")"
   ]
  }
 ],
 "metadata": {
  "kernelspec": {
   "display_name": "Python 3",
   "language": "python",
   "name": "python3"
  },
  "language_info": {
   "codemirror_mode": {
    "name": "ipython",
    "version": 3
   },
   "file_extension": ".py",
   "mimetype": "text/x-python",
   "name": "python",
   "nbconvert_exporter": "python",
   "pygments_lexer": "ipython3",
   "version": "3.6.3"
  }
 },
 "nbformat": 4,
 "nbformat_minor": 2
}
